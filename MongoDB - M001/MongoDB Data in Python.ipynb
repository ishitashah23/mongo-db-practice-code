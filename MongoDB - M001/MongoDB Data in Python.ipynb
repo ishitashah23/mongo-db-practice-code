{
 "cells": [
  {
   "cell_type": "markdown",
   "metadata": {},
   "source": [
    "## Step(1) : Defining the MongoClient"
   ]
  },
  {
   "cell_type": "code",
   "execution_count": 1,
   "metadata": {},
   "outputs": [],
   "source": [
    "import pymongo\n",
    "from pymongo import MongoClient\n",
    "client = MongoClient('connectionstring')"
   ]
  },
  {
   "cell_type": "markdown",
   "metadata": {},
   "source": [
    "## Step (2) : Selecting the database and collection "
   ]
  },
  {
   "cell_type": "code",
   "execution_count": 2,
   "metadata": {},
   "outputs": [
    {
     "data": {
      "text/plain": [
       "['video', 'admin', 'local']"
      ]
     },
     "execution_count": 2,
     "metadata": {},
     "output_type": "execute_result"
    }
   ],
   "source": [
    "client.list_database_names()"
   ]
  },
  {
   "cell_type": "code",
   "execution_count": 3,
   "metadata": {},
   "outputs": [],
   "source": [
    "db = client['video']"
   ]
  },
  {
   "cell_type": "code",
   "execution_count": 4,
   "metadata": {},
   "outputs": [
    {
     "data": {
      "text/plain": [
       "['moviesScratch', 'movieDetails']"
      ]
     },
     "execution_count": 4,
     "metadata": {},
     "output_type": "execute_result"
    }
   ],
   "source": [
    "db.list_collection_names()"
   ]
  },
  {
   "cell_type": "code",
   "execution_count": 5,
   "metadata": {},
   "outputs": [],
   "source": [
    "col = db['movieDetails']"
   ]
  },
  {
   "cell_type": "markdown",
   "metadata": {},
   "source": [
    "## Step (3) : Importing first thousands documents as pandas DataFrame"
   ]
  },
  {
   "cell_type": "code",
   "execution_count": 6,
   "metadata": {},
   "outputs": [],
   "source": [
    "import pandas as pd\n",
    "test = pd.DataFrame(list(col.find())[:1000])"
   ]
  },
  {
   "cell_type": "code",
   "execution_count": 7,
   "metadata": {},
   "outputs": [
    {
     "data": {
      "text/html": [
       "<div>\n",
       "<style scoped>\n",
       "    .dataframe tbody tr th:only-of-type {\n",
       "        vertical-align: middle;\n",
       "    }\n",
       "\n",
       "    .dataframe tbody tr th {\n",
       "        vertical-align: top;\n",
       "    }\n",
       "\n",
       "    .dataframe thead th {\n",
       "        text-align: right;\n",
       "    }\n",
       "</style>\n",
       "<table border=\"1\" class=\"dataframe\">\n",
       "  <thead>\n",
       "    <tr style=\"text-align: right;\">\n",
       "      <th></th>\n",
       "      <th>_id</th>\n",
       "      <th>title</th>\n",
       "      <th>year</th>\n",
       "      <th>rated</th>\n",
       "      <th>runtime</th>\n",
       "      <th>countries</th>\n",
       "      <th>genres</th>\n",
       "      <th>director</th>\n",
       "      <th>writers</th>\n",
       "      <th>actors</th>\n",
       "      <th>plot</th>\n",
       "      <th>poster</th>\n",
       "      <th>imdb</th>\n",
       "      <th>tomato</th>\n",
       "      <th>metacritic</th>\n",
       "      <th>awards</th>\n",
       "      <th>type</th>\n",
       "    </tr>\n",
       "  </thead>\n",
       "  <tbody>\n",
       "    <tr>\n",
       "      <th>0</th>\n",
       "      <td>5f5f1dc877cd23db043a7551</td>\n",
       "      <td>Once Upon a Time in the West</td>\n",
       "      <td>1968.0</td>\n",
       "      <td>PG-13</td>\n",
       "      <td>175.0</td>\n",
       "      <td>[Italy, USA, Spain]</td>\n",
       "      <td>[Western]</td>\n",
       "      <td>Sergio Leone</td>\n",
       "      <td>[Sergio Donati, Sergio Leone, Dario Argento, B...</td>\n",
       "      <td>[Claudia Cardinale, Henry Fonda, Jason Robards...</td>\n",
       "      <td>Epic story of a mysterious stranger with a har...</td>\n",
       "      <td>http://ia.media-imdb.com/images/M/MV5BMTEyODQz...</td>\n",
       "      <td>{'id': 'tt0064116', 'rating': 8.6, 'votes': 20...</td>\n",
       "      <td>{'meter': 98.0, 'image': 'certified', 'rating'...</td>\n",
       "      <td>80.0</td>\n",
       "      <td>{'wins': 4.0, 'nominations': 5.0, 'text': '4 w...</td>\n",
       "      <td>movie</td>\n",
       "    </tr>\n",
       "    <tr>\n",
       "      <th>1</th>\n",
       "      <td>5f5f1dc877cd23db043a7552</td>\n",
       "      <td>A Million Ways to Die in the West</td>\n",
       "      <td>2014.0</td>\n",
       "      <td>R</td>\n",
       "      <td>116.0</td>\n",
       "      <td>[USA]</td>\n",
       "      <td>[Comedy, Western]</td>\n",
       "      <td>Seth MacFarlane</td>\n",
       "      <td>[Seth MacFarlane, Alec Sulkin, Wellesley Wild]</td>\n",
       "      <td>[Seth MacFarlane, Charlize Theron, Amanda Seyf...</td>\n",
       "      <td>As a cowardly farmer begins to fall for the my...</td>\n",
       "      <td>http://ia.media-imdb.com/images/M/MV5BMTQ0NDcy...</td>\n",
       "      <td>{'id': 'tt2557490', 'rating': 6.1, 'votes': 12...</td>\n",
       "      <td>{'meter': 33.0, 'image': 'rotten', 'rating': 4...</td>\n",
       "      <td>44.0</td>\n",
       "      <td>{'wins': 0.0, 'nominations': 6.0, 'text': '6 n...</td>\n",
       "      <td>movie</td>\n",
       "    </tr>\n",
       "    <tr>\n",
       "      <th>2</th>\n",
       "      <td>5f5f1dc877cd23db043a7553</td>\n",
       "      <td>Wild Wild West</td>\n",
       "      <td>1999.0</td>\n",
       "      <td>PG-13</td>\n",
       "      <td>106.0</td>\n",
       "      <td>[USA]</td>\n",
       "      <td>[Action, Western, Comedy]</td>\n",
       "      <td>Barry Sonnenfeld</td>\n",
       "      <td>[Jim Thomas, John Thomas, S.S. Wilson, Brent M...</td>\n",
       "      <td>[Will Smith, Kevin Kline, Kenneth Branagh, Sal...</td>\n",
       "      <td>The two best hired guns in the West must save ...</td>\n",
       "      <td>http://ia.media-imdb.com/images/M/MV5BNDI5NDk5...</td>\n",
       "      <td>{'id': 'tt0120891', 'rating': 4.8, 'votes': 12...</td>\n",
       "      <td>{'meter': 17.0, 'image': 'rotten', 'rating': 4...</td>\n",
       "      <td>38.0</td>\n",
       "      <td>{'wins': 10.0, 'nominations': 11.0, 'text': '1...</td>\n",
       "      <td>movie</td>\n",
       "    </tr>\n",
       "    <tr>\n",
       "      <th>3</th>\n",
       "      <td>5f5f1dc877cd23db043a7554</td>\n",
       "      <td>West Side Story</td>\n",
       "      <td>1961.0</td>\n",
       "      <td>UNRATED</td>\n",
       "      <td>152.0</td>\n",
       "      <td>[USA]</td>\n",
       "      <td>[Crime, Drama, Musical]</td>\n",
       "      <td>Jerome Robbins, Robert Wise</td>\n",
       "      <td>[Ernest Lehman, Arthur Laurents, Jerome Robbins]</td>\n",
       "      <td>[Natalie Wood, Richard Beymer, Russ Tamblyn, R...</td>\n",
       "      <td>Two youngsters from rival New York City gangs ...</td>\n",
       "      <td>http://ia.media-imdb.com/images/M/MV5BMTM0NDAx...</td>\n",
       "      <td>{'id': 'tt0055614', 'rating': 7.6, 'votes': 67...</td>\n",
       "      <td>NaN</td>\n",
       "      <td>NaN</td>\n",
       "      <td>{'wins': 18.0, 'nominations': 11.0, 'text': 'W...</td>\n",
       "      <td>movie</td>\n",
       "    </tr>\n",
       "    <tr>\n",
       "      <th>4</th>\n",
       "      <td>5f5f1dc877cd23db043a7555</td>\n",
       "      <td>Slow West</td>\n",
       "      <td>2015.0</td>\n",
       "      <td>R</td>\n",
       "      <td>84.0</td>\n",
       "      <td>[UK, New Zealand]</td>\n",
       "      <td>[Action, Thriller, Western]</td>\n",
       "      <td>John Maclean</td>\n",
       "      <td>[John Maclean]</td>\n",
       "      <td>[Kodi Smit-McPhee, Michael Fassbender, Ben Men...</td>\n",
       "      <td>A young Scottish man travels across America in...</td>\n",
       "      <td>http://ia.media-imdb.com/images/M/MV5BNTYxNDA5...</td>\n",
       "      <td>{'id': 'tt3205376', 'rating': 7.0, 'votes': 19...</td>\n",
       "      <td>{'meter': 92.0, 'image': 'certified', 'rating'...</td>\n",
       "      <td>72.0</td>\n",
       "      <td>{'wins': 2.0, 'nominations': 9.0, 'text': '2 w...</td>\n",
       "      <td>movie</td>\n",
       "    </tr>\n",
       "  </tbody>\n",
       "</table>\n",
       "</div>"
      ],
      "text/plain": [
       "                        _id                              title    year  \\\n",
       "0  5f5f1dc877cd23db043a7551       Once Upon a Time in the West  1968.0   \n",
       "1  5f5f1dc877cd23db043a7552  A Million Ways to Die in the West  2014.0   \n",
       "2  5f5f1dc877cd23db043a7553                     Wild Wild West  1999.0   \n",
       "3  5f5f1dc877cd23db043a7554                    West Side Story  1961.0   \n",
       "4  5f5f1dc877cd23db043a7555                          Slow West  2015.0   \n",
       "\n",
       "     rated  runtime            countries                       genres  \\\n",
       "0    PG-13    175.0  [Italy, USA, Spain]                    [Western]   \n",
       "1        R    116.0                [USA]            [Comedy, Western]   \n",
       "2    PG-13    106.0                [USA]    [Action, Western, Comedy]   \n",
       "3  UNRATED    152.0                [USA]      [Crime, Drama, Musical]   \n",
       "4        R     84.0    [UK, New Zealand]  [Action, Thriller, Western]   \n",
       "\n",
       "                      director  \\\n",
       "0                 Sergio Leone   \n",
       "1              Seth MacFarlane   \n",
       "2             Barry Sonnenfeld   \n",
       "3  Jerome Robbins, Robert Wise   \n",
       "4                 John Maclean   \n",
       "\n",
       "                                             writers  \\\n",
       "0  [Sergio Donati, Sergio Leone, Dario Argento, B...   \n",
       "1     [Seth MacFarlane, Alec Sulkin, Wellesley Wild]   \n",
       "2  [Jim Thomas, John Thomas, S.S. Wilson, Brent M...   \n",
       "3   [Ernest Lehman, Arthur Laurents, Jerome Robbins]   \n",
       "4                                     [John Maclean]   \n",
       "\n",
       "                                              actors  \\\n",
       "0  [Claudia Cardinale, Henry Fonda, Jason Robards...   \n",
       "1  [Seth MacFarlane, Charlize Theron, Amanda Seyf...   \n",
       "2  [Will Smith, Kevin Kline, Kenneth Branagh, Sal...   \n",
       "3  [Natalie Wood, Richard Beymer, Russ Tamblyn, R...   \n",
       "4  [Kodi Smit-McPhee, Michael Fassbender, Ben Men...   \n",
       "\n",
       "                                                plot  \\\n",
       "0  Epic story of a mysterious stranger with a har...   \n",
       "1  As a cowardly farmer begins to fall for the my...   \n",
       "2  The two best hired guns in the West must save ...   \n",
       "3  Two youngsters from rival New York City gangs ...   \n",
       "4  A young Scottish man travels across America in...   \n",
       "\n",
       "                                              poster  \\\n",
       "0  http://ia.media-imdb.com/images/M/MV5BMTEyODQz...   \n",
       "1  http://ia.media-imdb.com/images/M/MV5BMTQ0NDcy...   \n",
       "2  http://ia.media-imdb.com/images/M/MV5BNDI5NDk5...   \n",
       "3  http://ia.media-imdb.com/images/M/MV5BMTM0NDAx...   \n",
       "4  http://ia.media-imdb.com/images/M/MV5BNTYxNDA5...   \n",
       "\n",
       "                                                imdb  \\\n",
       "0  {'id': 'tt0064116', 'rating': 8.6, 'votes': 20...   \n",
       "1  {'id': 'tt2557490', 'rating': 6.1, 'votes': 12...   \n",
       "2  {'id': 'tt0120891', 'rating': 4.8, 'votes': 12...   \n",
       "3  {'id': 'tt0055614', 'rating': 7.6, 'votes': 67...   \n",
       "4  {'id': 'tt3205376', 'rating': 7.0, 'votes': 19...   \n",
       "\n",
       "                                              tomato  metacritic  \\\n",
       "0  {'meter': 98.0, 'image': 'certified', 'rating'...        80.0   \n",
       "1  {'meter': 33.0, 'image': 'rotten', 'rating': 4...        44.0   \n",
       "2  {'meter': 17.0, 'image': 'rotten', 'rating': 4...        38.0   \n",
       "3                                                NaN         NaN   \n",
       "4  {'meter': 92.0, 'image': 'certified', 'rating'...        72.0   \n",
       "\n",
       "                                              awards   type  \n",
       "0  {'wins': 4.0, 'nominations': 5.0, 'text': '4 w...  movie  \n",
       "1  {'wins': 0.0, 'nominations': 6.0, 'text': '6 n...  movie  \n",
       "2  {'wins': 10.0, 'nominations': 11.0, 'text': '1...  movie  \n",
       "3  {'wins': 18.0, 'nominations': 11.0, 'text': 'W...  movie  \n",
       "4  {'wins': 2.0, 'nominations': 9.0, 'text': '2 w...  movie  "
      ]
     },
     "execution_count": 7,
     "metadata": {},
     "output_type": "execute_result"
    }
   ],
   "source": [
    "test.head()"
   ]
  }
 ],
 "metadata": {
  "kernelspec": {
   "display_name": "Python 3",
   "language": "python",
   "name": "python3"
  },
  "language_info": {
   "codemirror_mode": {
    "name": "ipython",
    "version": 3
   },
   "file_extension": ".py",
   "mimetype": "text/x-python",
   "name": "python",
   "nbconvert_exporter": "python",
   "pygments_lexer": "ipython3",
   "version": "3.7.7"
  }
 },
 "nbformat": 4,
 "nbformat_minor": 4
}
